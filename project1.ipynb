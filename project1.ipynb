{
 "cells": [
  {
   "cell_type": "markdown",
   "metadata": {},
   "source": [
    "# Determination of Cauchy constant"
   ]
  },
  {
   "cell_type": "markdown",
   "metadata": {},
   "source": [
    "## 1.Introduction"
   ]
  },
  {
   "cell_type": "markdown",
   "metadata": {},
   "source": [
    "Refractive index of transparent medium is \\\n",
    "\\begin{equation}\n",
    "\\mu=\\frac{\\text{velocity in vacuum(c)}}{\\text{velocity in medium(v)}}\n",
    "\\end{equation}"
   ]
  },
  {
   "cell_type": "markdown",
   "metadata": {},
   "source": [
    "But,by Snell's law\\\n",
    "\\begin{equation}\n",
    "\\mu=\\frac{\\sin i}{\\sin r}\n",
    "\\end{equation}"
   ]
  },
  {
   "cell_type": "markdown",
   "metadata": {},
   "source": [
    "<div><img src=\"image/dispersion.jpg\" width=\"200\"/></div>"
   ]
  },
  {
   "cell_type": "markdown",
   "metadata": {},
   "source": [
    "Angle of deviation($\\delta$) are not same for all colour of light.\n",
    "Dispersion of white light in prism shows that refractive index($\\mu$) of prism differ for different colour of light.\n",
    "\\begin{equation}\n",
    "\\delta=(\\mu-1)A\n",
    "\\end{equation}"
   ]
  },
  {
   "cell_type": "markdown",
   "metadata": {},
   "source": [
    "French mathematician,Augustin-Louis Cauchy (21 August 1789 – 23 May 1857) developed formula called as Cauchy's equation.\n",
    "\\begin{equation}\n",
    "\\mu=A+\\frac{B}{\\lambda^2}........(1)\n",
    "\\end{equation}\n",
    "where A and B are constant which depend on nature of medium.It relates refractive index and wave length."
   ]
  },
  {
   "cell_type": "markdown",
   "metadata": {},
   "source": [
    "<div><img src=\"image/cauchy.jpg\" width=\"100\"/></div>"
   ]
  },
  {
   "cell_type": "markdown",
   "metadata": {},
   "source": [
    "## 2.Method"
   ]
  },
  {
   "cell_type": "markdown",
   "metadata": {},
   "source": [
    "1.Wavelenth of different color of light($\\lambda$) are determined by using spectrometer and diffrection grating.Here diffrection grating with 15,000 lines per inch(N) is used for first order diffreaction(n=1).\n",
    "Then grating space is \n",
    "d=1/N\n",
    "\\begin{equation}\n",
    "d\\sin\\theta=n\\lambda...............(2)\n",
    "\\end{equation}\n"
   ]
  },
  {
   "cell_type": "markdown",
   "metadata": {},
   "source": [
    "<div><img src=\"image/diffraction.jpg\" width=\"200\"/></div>\n",
    "<div><img src=\"image/grating.jpeg\" width=\"100\"/></div>"
   ]
  },
  {
   "cell_type": "markdown",
   "metadata": {},
   "source": [
    "2.Refractive index($\\mu$) for different color of light are determine by using spectrometer and prism.Here minumum deviation($\\delta_{min}$)are determined for different color.\n",
    "A=59.38$^o$ \n",
    "\\begin{equation}\n",
    "\\mu=\\frac{\\sin(\\delta _{min}+A)/2}{\\sin(A/2)}.................(3)\n",
    "\\end{equation}"
   ]
  },
  {
   "cell_type": "markdown",
   "metadata": {},
   "source": [
    "<div><img src=\"image/deviation.png\" width=\"200\"/></div>\n",
    "<div><img src=\"image/spectrometer.jpg\" width=\"200\"/></div>"
   ]
  },
  {
   "cell_type": "markdown",
   "metadata": {},
   "source": [
    "3. From eqn(1)\n",
    "\\begin{equation}\n",
    "y=A+Bx...............(4)\n",
    "\\end{equation}\n",
    "where,y=$\\mu$ and x=1/$\\lambda^2$.This represent shraight line.So A and B are calculated by least square method.\\\n",
    "In this method ,sum of square of error is minimized."
   ]
  },
  {
   "cell_type": "markdown",
   "metadata": {},
   "source": [
    "## 3.Code"
   ]
  },
  {
   "cell_type": "code",
   "execution_count": 1,
   "metadata": {},
   "outputs": [],
   "source": [
    "import pandas as pd\n",
    "import numpy as np\n",
    "import matplotlib.pyplot as plt\n",
    "from matplotlib.ticker import (MultipleLocator, FormatStrFormatter,\n",
    "                               AutoMinorLocator)\n",
    "%matplotlib inline"
   ]
  },
  {
   "cell_type": "code",
   "execution_count": 2,
   "metadata": {},
   "outputs": [],
   "source": [
    "N=15000 # lines per inch\n",
    "d=2.54/N # in cm\n",
    "n=1\n",
    "A=59.38 # angle of prism\n",
    "convdr=np.pi/180 # conversion of degree to radian"
   ]
  },
  {
   "cell_type": "code",
   "execution_count": 3,
   "metadata": {},
   "outputs": [
    {
     "data": {
      "text/html": [
       "<div>\n",
       "<style scoped>\n",
       "    .dataframe tbody tr th:only-of-type {\n",
       "        vertical-align: middle;\n",
       "    }\n",
       "\n",
       "    .dataframe tbody tr th {\n",
       "        vertical-align: top;\n",
       "    }\n",
       "\n",
       "    .dataframe thead th {\n",
       "        text-align: right;\n",
       "    }\n",
       "</style>\n",
       "<table border=\"1\" class=\"dataframe\">\n",
       "  <thead>\n",
       "    <tr style=\"text-align: right;\">\n",
       "      <th></th>\n",
       "      <th>color</th>\n",
       "      <th>diffraction</th>\n",
       "      <th>deviation</th>\n",
       "    </tr>\n",
       "  </thead>\n",
       "  <tbody>\n",
       "    <tr>\n",
       "      <th>0</th>\n",
       "      <td>red</td>\n",
       "      <td>21.90</td>\n",
       "      <td>38.06</td>\n",
       "    </tr>\n",
       "    <tr>\n",
       "      <th>1</th>\n",
       "      <td>yellow</td>\n",
       "      <td>18.67</td>\n",
       "      <td>38.52</td>\n",
       "    </tr>\n",
       "    <tr>\n",
       "      <th>2</th>\n",
       "      <td>green</td>\n",
       "      <td>17.25</td>\n",
       "      <td>38.54</td>\n",
       "    </tr>\n",
       "  </tbody>\n",
       "</table>\n",
       "</div>"
      ],
      "text/plain": [
       "    color  diffraction  deviation\n",
       "0     red        21.90      38.06\n",
       "1  yellow        18.67      38.52\n",
       "2   green        17.25      38.54"
      ]
     },
     "execution_count": 3,
     "metadata": {},
     "output_type": "execute_result"
    }
   ],
   "source": [
    "df = pd.read_excel ('data/cauchy.xlsx') \n",
    "df"
   ]
  },
  {
   "cell_type": "code",
   "execution_count": 4,
   "metadata": {},
   "outputs": [],
   "source": [
    "wav=d*np.sin(convdr*df['diffraction']) # wave length in cm\n",
    "ref=np.sin(convdr*(df['deviation']+A)/2)/np.sin(convdr*A/2) # refractive index"
   ]
  },
  {
   "cell_type": "code",
   "execution_count": 5,
   "metadata": {},
   "outputs": [
    {
     "data": {
      "text/html": [
       "<div>\n",
       "<style scoped>\n",
       "    .dataframe tbody tr th:only-of-type {\n",
       "        vertical-align: middle;\n",
       "    }\n",
       "\n",
       "    .dataframe tbody tr th {\n",
       "        vertical-align: top;\n",
       "    }\n",
       "\n",
       "    .dataframe thead th {\n",
       "        text-align: right;\n",
       "    }\n",
       "</style>\n",
       "<table border=\"1\" class=\"dataframe\">\n",
       "  <thead>\n",
       "    <tr style=\"text-align: right;\">\n",
       "      <th></th>\n",
       "      <th>color</th>\n",
       "      <th>diffraction</th>\n",
       "      <th>deviation</th>\n",
       "      <th>wavelength(nm)</th>\n",
       "      <th>refractive</th>\n",
       "    </tr>\n",
       "  </thead>\n",
       "  <tbody>\n",
       "    <tr>\n",
       "      <th>0</th>\n",
       "      <td>red</td>\n",
       "      <td>21.90</td>\n",
       "      <td>38.06</td>\n",
       "      <td>631.592645</td>\n",
       "      <td>1.517229</td>\n",
       "    </tr>\n",
       "    <tr>\n",
       "      <th>1</th>\n",
       "      <td>yellow</td>\n",
       "      <td>18.67</td>\n",
       "      <td>38.52</td>\n",
       "      <td>542.064767</td>\n",
       "      <td>1.522564</td>\n",
       "    </tr>\n",
       "    <tr>\n",
       "      <th>2</th>\n",
       "      <td>green</td>\n",
       "      <td>17.25</td>\n",
       "      <td>38.54</td>\n",
       "      <td>502.143734</td>\n",
       "      <td>1.522796</td>\n",
       "    </tr>\n",
       "  </tbody>\n",
       "</table>\n",
       "</div>"
      ],
      "text/plain": [
       "    color  diffraction  deviation  wavelength(nm)  refractive\n",
       "0     red        21.90      38.06      631.592645    1.517229\n",
       "1  yellow        18.67      38.52      542.064767    1.522564\n",
       "2   green        17.25      38.54      502.143734    1.522796"
      ]
     },
     "execution_count": 5,
     "metadata": {},
     "output_type": "execute_result"
    }
   ],
   "source": [
    "df['wavelength(nm)']=wav*1e7 # in nm \n",
    "df['refractive']=ref\n",
    "df"
   ]
  },
  {
   "cell_type": "code",
   "execution_count": 6,
   "metadata": {},
   "outputs": [
    {
     "data": {
      "image/png": "[encoded data removed]",
      "text/plain": [
       "<Figure size 576x432 with 1 Axes>"
      ]
     },
     "metadata": {
      "needs_background": "light"
     },
     "output_type": "display_data"
    },
    {
     "name": "stdout",
     "output_type": "stream",
     "text": [
      "A = 1.51\n",
      "B= 4.01e+03\n"
     ]
    }
   ],
   "source": [
    "x=1/(wav*1e7)**2\n",
    "y=ref\n",
    "z=np.polyfit(x, y, 1) # linear  fit y=a+bx\n",
    "p=np.poly1d(z)  #  [a,b]\n",
    "ey=p(x) # expected value\n",
    "A=\"{:.3}\".format(p[0])\n",
    "B=\"{:.3}\".format(p[1])\n",
    "\n",
    "fig,ax = plt.subplots(figsize = [8,6])\n",
    "plt.plot(x, y, 'ro',label='observed')\n",
    "plt.plot(x, ey, 'b-',label='fitted, A= '+str(A)+', B='+str(B))\n",
    "ax.set_xticks(np.arange(2.00e-6,4.90e-6,0.8e-6))\n",
    "ax.set_xticklabels(np.arange(2.00e-6,4.90e-6,0.8e-6), fontsize=18)\n",
    "ax.set_yticks(np.arange(1.50,1.53,0.01))\n",
    "ax.set_yticklabels(np.arange(1.50,1.53,0.01), fontsize=18)\n",
    "ax.tick_params(axis='x', labelrotation= 45)\n",
    "ax.set_xlabel(r'1/$\\lambda^2(nm^{-2})$',fontsize =18,color='k')\n",
    "ax.set_ylabel(r'$\\mu$',fontsize =18,color='k')\n",
    "plt.legend()\n",
    "plt.title('Fitted curve',fontsize =24,color='k')\n",
    "fig.tight_layout() \n",
    "plt.savefig(\"image/fit.png\", dpi = 600) # dpi dot per inch\n",
    "plt.show()\n",
    "print('A =',A)\n",
    "print('B=',B)"
   ]
  },
  {
   "cell_type": "code",
   "execution_count": 7,
   "metadata": {},
   "outputs": [
    {
     "data": {
      "image/png": "[encoded data removed]",
      "text/plain": [
       "<Figure size 576x432 with 1 Axes>"
      ]
     },
     "metadata": {
      "needs_background": "light"
     },
     "output_type": "display_data"
    }
   ],
   "source": [
    "fig,ax = plt.subplots(figsize = [8,6])\n",
    "plt.scatter(wav*1e7,ref,marker='o',color ='red')\n",
    "ax.set_xticks(np.arange(450, 700, 50))\n",
    "ax.set_xticklabels(np.arange(450, 700, 50), fontsize=18)\n",
    "ax.set_yticks(np.arange(1.50,1.53,0.01))\n",
    "ax.set_yticklabels(np.arange(1.50,1.53,0.01), fontsize=18)\n",
    "ax.tick_params(axis='x', labelrotation= 45)\n",
    "ax.set_xlabel('Wave length(nm)',fontsize =18,color='k')\n",
    "ax.set_ylabel('Refractive index',fontsize =18,color='k')\n",
    "plt.title('Cauchy curve',fontsize =24,color='k')\n",
    "fig.tight_layout() \n",
    "plt.savefig(\"image/fig.png\", dpi = 600) # dpi dot per inch\n",
    "plt.show()"
   ]
  },
  {
   "cell_type": "markdown",
   "metadata": {},
   "source": [
    "## 4.Result"
   ]
  },
  {
   "cell_type": "markdown",
   "metadata": {},
   "source": [
    "Cauch constants are \n",
    "A = 1.51\n",
    "B= 4.01e+03/nm$^2$"
   ]
  },
  {
   "cell_type": "markdown",
   "metadata": {},
   "source": [
    "## Reference\n",
    "1.https://en.wikipedia.org/wiki/Cauchy%27s_equation \\\n",
    "    2.Subrahmanyam N. and Lal B. - Text Book of Optics, S. Chand and Co., Ltd. (1994)\\\n",
    "    3.Arora C. L. - B.Sc. Practical Physics, S. Chand and Company Ltd. (2010) \n",
    "    "
   ]
  },
  {
   "cell_type": "code",
   "execution_count": null,
   "metadata": {},
   "outputs": [],
   "source": []
  }
 ],
 "metadata": {
  "kernelspec": {
   "display_name": "Python 3",
   "language": "python",
   "name": "python3"
  },
  "language_info": {
   "codemirror_mode": {
    "name": "ipython",
    "version": 3
   },
   "file_extension": ".py",
   "mimetype": "text/x-python",
   "name": "python",
   "nbconvert_exporter": "python",
   "pygments_lexer": "ipython3",
   "version": "3.7.6"
  }
 },
 "nbformat": 4,
 "nbformat_minor": 4
}
